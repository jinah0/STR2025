{
  "nbformat": 4,
  "nbformat_minor": 0,
  "metadata": {
    "colab": {
      "provenance": [],
      "authorship_tag": "ABX9TyOIQBksko6jD0w+CeQ597Ja",
      "include_colab_link": true
    },
    "kernelspec": {
      "name": "python3",
      "display_name": "Python 3"
    },
    "language_info": {
      "name": "python"
    }
  },
  "cells": [
    {
      "cell_type": "markdown",
      "metadata": {
        "id": "view-in-github",
        "colab_type": "text"
      },
      "source": [
        "<a href=\"https://colab.research.google.com/github/jinah0/STR2025/blob/main/%5B%ED%86%B5%EA%B3%84%ED%95%99%EC%A4%91%EC%97%B0%EA%B5%AC%EB%B0%A9%EB%B2%95%EB%A1%A0%5D%EC%A0%95%EC%A7%84%EC%95%84.ipynb\" target=\"_parent\"><img src=\"https://colab.research.google.com/assets/colab-badge.svg\" alt=\"Open In Colab\"/></a>"
      ]
    },
    {
      "cell_type": "code",
      "source": [
        "# 주제: 성별에 따른 하루 평균 공부 시간의 차이\n",
        "\n",
        "# H0: 남학생과 여학생의 평균 공부 시간은 차이가 없다.\n",
        "# H1: 남학생과 여학생의 평균 공부 시간은 차이가 있다."
      ],
      "metadata": {
        "id": "MA6GW2M3uFET"
      },
      "execution_count": null,
      "outputs": []
    },
    {
      "cell_type": "code",
      "source": [
        "# 필요한 라이브러리 불러오기\n",
        "import pandas as pd\n",
        "from scipy.stats import shapiro\n",
        "\n",
        "# 데이터 불러오기\n",
        "df = pd.read_csv(\"study_hours_gender.csv\")\n",
        "\n",
        "# 열 이름이 다르면 바꿔주기 (예: 엑셀에서 저장 시 한글로 바뀐 경우)\n",
        "df = df.rename(columns={'Dependent variable': 'Gender', 'Independent variable': 'StudyHours'})\n",
        "\n",
        "# 성별에 따라 그룹 나누기\n",
        "female = df[df['Gender'] == 'Female']['StudyHours']\n",
        "male = df[df['Gender'] == 'Male']['StudyHours']\n",
        "\n",
        "# 정규성 검정 (Shapiro-Wilk Test)\n",
        "shapiro_female = shapiro(female)\n",
        "shapiro_male = shapiro(male)\n",
        "\n",
        "print(\"Shapiro-Wilk Test for Female group\")\n",
        "print(\"Statistic: {:.4f}, p-value: {:.4f}\".format(shapiro_female.statistic, shapiro_female.pvalue))\n",
        "if shapiro_female.pvalue > 0.05:\n",
        "    print(\"정규성을 만족함\\n\")\n",
        "else:\n",
        "    print(\"정규성을 만족하지 않음\\n\")\n",
        "\n",
        "print(\"Shapiro-Wilk Test for Male group\")\n",
        "print(\"Statistic: {:.4f}, p-value: {:.4f}\".format(shapiro_male.statistic, shapiro_male.pvalue))\n",
        "if shapiro_male.pvalue > 0.05:\n",
        "    print(\"정규성을 만족함\\n\")\n",
        "else:\n",
        "    print(\"정규성을 만족하지 않음\\n\")\n"
      ],
      "metadata": {
        "colab": {
          "base_uri": "https://localhost:8080/"
        },
        "id": "i13-5rFatncL",
        "outputId": "77c8e5a1-9918-48eb-c560-e816f2be5c5b"
      },
      "execution_count": 16,
      "outputs": [
        {
          "output_type": "stream",
          "name": "stdout",
          "text": [
            "Shapiro-Wilk Test for Female group\n",
            "Statistic: 0.9749, p-value: 0.8528\n",
            "정규성을 만족함\n",
            "\n",
            "Shapiro-Wilk Test for Male group\n",
            "Statistic: 0.9705, p-value: 0.7650\n",
            "정규성을 만족함\n",
            "\n"
          ]
        }
      ]
    },
    {
      "cell_type": "code",
      "source": [
        "#두 그룹 모두 유의수준 0.05보다 크므로 정규성을 만족한다고 판단할 수 있다."
      ],
      "metadata": {
        "id": "VTjtmBXsuDFC"
      },
      "execution_count": null,
      "outputs": []
    },
    {
      "cell_type": "code",
      "source": [
        "# 필요한 라이브러리 불러오기\n",
        "from scipy.stats import ttest_ind\n",
        "\n",
        "# 두 그룹의 데이터\n",
        "female = df[df['Gender'] == 'Female']['StudyHours']\n",
        "male = df[df['Gender'] == 'Male']['StudyHours']\n",
        "\n",
        "# Unpaired Student's t-test (등분산 가정하지 않음)\n",
        "t_stat, p_value = ttest_ind(female, male, equal_var=False)\n",
        "\n",
        "print(\"Unpaired Student's t-test 결과\")\n",
        "print(\"t-statistic: {:.4f}, p-value: {:.4f}\".format(t_stat, p_value))\n",
        "\n",
        "if p_value < 0.05:\n",
        "    print(\"→ 유의수준 0.05에서 귀무가설을 기각할 수 있음 (성별에 따라 평균 공부 시간 차이 있음)\")\n",
        "else:\n",
        "    print(\"→ 유의수준 0.05에서 귀무가설을 기각할 수 없음 (성별에 따라 평균 공부 시간 차이 없음)\")\n"
      ],
      "metadata": {
        "colab": {
          "base_uri": "https://localhost:8080/"
        },
        "id": "aW04XhySu7Sy",
        "outputId": "a1972c14-f915-4b7d-f98b-adf851f0597b"
      },
      "execution_count": 17,
      "outputs": [
        {
          "output_type": "stream",
          "name": "stdout",
          "text": [
            "Unpaired Student's t-test 결과\n",
            "t-statistic: 1.9511, p-value: 0.0584\n",
            "→ 유의수준 0.05에서 귀무가설을 기각할 수 없음 (성별에 따라 평균 공부 시간 차이 없음)\n"
          ]
        }
      ]
    },
    {
      "cell_type": "code",
      "source": [
        "# 따라서, 남학생과 여학생의 평균 공부 시간에는 통계적으로 유의미한 차이가 없다고 말할 수 있다."
      ],
      "metadata": {
        "id": "8PIjCQlVu-nS"
      },
      "execution_count": null,
      "outputs": []
    },
    {
      "cell_type": "code",
      "source": [],
      "metadata": {
        "id": "sBkNPTlZvCUK"
      },
      "execution_count": null,
      "outputs": []
    }
  ]
}